{
 "cells": [
  {
   "cell_type": "code",
   "execution_count": 1,
   "id": "d8d49fca",
   "metadata": {},
   "outputs": [],
   "source": [
    "import pandas as pd\n"
   ]
  },
  {
   "cell_type": "code",
   "execution_count": 5,
   "id": "a0e0e531",
   "metadata": {},
   "outputs": [],
   "source": [
    "# Task 1"
   ]
  },
  {
   "cell_type": "code",
   "execution_count": 6,
   "id": "d6d3ca4b",
   "metadata": {},
   "outputs": [],
   "source": [
    "# Create data\n",
    "data = {\n",
    "    'Feature1': [2.1, 3.2, 1.5, 4.6, 5.7, 2.8, 3.9, 4.2, 1.3, 2.4],\n",
    "    'Feature2': [7.3, 6.8, 8.1, 9.4, 7.6, 6.5, 8.9, 9.1, 7.2, 6.7],\n",
    "    'Feature3': [0.9, 1.2, 1.5, 0.8, 1.1, 1.4, 0.7, 1.0, 0.6, 0.8],\n",
    "    'Feature4': [15.2, 13.7, 14.8, 16.5, 15.6, 16.8, 14.3, 14.9, 15.1, 16.2],\n",
    "    'Feature5': [5.6, 4.8, 6.2, 5.4, 4.9, 5.1, 6.5, 6.8, 4.7, 5.3]\n",
    "}\n",
    "\n",
    "# Create DataFrame\n",
    "df = pd.DataFrame(data)"
   ]
  },
  {
   "cell_type": "code",
   "execution_count": 7,
   "id": "339615a8",
   "metadata": {},
   "outputs": [
    {
     "name": "stdout",
     "output_type": "stream",
     "text": [
      "   Feature1  Feature2  Feature3  Feature4  Feature5\n",
      "0       2.1       7.3       0.9      15.2       5.6\n",
      "1       3.2       6.8       1.2      13.7       4.8\n",
      "2       1.5       8.1       1.5      14.8       6.2\n",
      "3       4.6       9.4       0.8      16.5       5.4\n",
      "4       5.7       7.6       1.1      15.6       4.9\n",
      "5       2.8       6.5       1.4      16.8       5.1\n",
      "6       3.9       8.9       0.7      14.3       6.5\n",
      "7       4.2       9.1       1.0      14.9       6.8\n",
      "8       1.3       7.2       0.6      15.1       4.7\n",
      "9       2.4       6.7       0.8      16.2       5.3\n"
     ]
    }
   ],
   "source": [
    "print(df)"
   ]
  },
  {
   "cell_type": "code",
   "execution_count": 8,
   "id": "bb352e94",
   "metadata": {},
   "outputs": [],
   "source": [
    "#Task 2"
   ]
  },
  {
   "cell_type": "code",
   "execution_count": 9,
   "id": "cadc88c5",
   "metadata": {},
   "outputs": [
    {
     "name": "stdout",
     "output_type": "stream",
     "text": [
      "<class 'pandas.core.frame.DataFrame'>\n",
      "RangeIndex: 10 entries, 0 to 9\n",
      "Data columns (total 5 columns):\n",
      " #   Column    Non-Null Count  Dtype  \n",
      "---  ------    --------------  -----  \n",
      " 0   Feature1  10 non-null     float64\n",
      " 1   Feature2  10 non-null     float64\n",
      " 2   Feature3  10 non-null     float64\n",
      " 3   Feature4  10 non-null     float64\n",
      " 4   Feature5  10 non-null     float64\n",
      "dtypes: float64(5)\n",
      "memory usage: 528.0 bytes\n"
     ]
    }
   ],
   "source": [
    "# checking Info\n",
    "\n",
    "df.info()"
   ]
  },
  {
   "cell_type": "code",
   "execution_count": 10,
   "id": "a3e769b7",
   "metadata": {},
   "outputs": [],
   "source": [
    "# Task 3"
   ]
  },
  {
   "cell_type": "code",
   "execution_count": 11,
   "id": "fd1a5f26",
   "metadata": {},
   "outputs": [
    {
     "data": {
      "text/html": [
       "<div>\n",
       "<style scoped>\n",
       "    .dataframe tbody tr th:only-of-type {\n",
       "        vertical-align: middle;\n",
       "    }\n",
       "\n",
       "    .dataframe tbody tr th {\n",
       "        vertical-align: top;\n",
       "    }\n",
       "\n",
       "    .dataframe thead th {\n",
       "        text-align: right;\n",
       "    }\n",
       "</style>\n",
       "<table border=\"1\" class=\"dataframe\">\n",
       "  <thead>\n",
       "    <tr style=\"text-align: right;\">\n",
       "      <th></th>\n",
       "      <th>Feature1</th>\n",
       "      <th>Feature2</th>\n",
       "      <th>Feature3</th>\n",
       "      <th>Feature4</th>\n",
       "      <th>Feature5</th>\n",
       "    </tr>\n",
       "  </thead>\n",
       "  <tbody>\n",
       "    <tr>\n",
       "      <th>count</th>\n",
       "      <td>10.000000</td>\n",
       "      <td>10.00000</td>\n",
       "      <td>10.000000</td>\n",
       "      <td>10.000000</td>\n",
       "      <td>10.000000</td>\n",
       "    </tr>\n",
       "    <tr>\n",
       "      <th>mean</th>\n",
       "      <td>3.170000</td>\n",
       "      <td>7.76000</td>\n",
       "      <td>1.000000</td>\n",
       "      <td>15.310000</td>\n",
       "      <td>5.530000</td>\n",
       "    </tr>\n",
       "    <tr>\n",
       "      <th>std</th>\n",
       "      <td>1.422088</td>\n",
       "      <td>1.05851</td>\n",
       "      <td>0.298142</td>\n",
       "      <td>0.978037</td>\n",
       "      <td>0.736433</td>\n",
       "    </tr>\n",
       "    <tr>\n",
       "      <th>min</th>\n",
       "      <td>1.300000</td>\n",
       "      <td>6.50000</td>\n",
       "      <td>0.600000</td>\n",
       "      <td>13.700000</td>\n",
       "      <td>4.700000</td>\n",
       "    </tr>\n",
       "    <tr>\n",
       "      <th>25%</th>\n",
       "      <td>2.175000</td>\n",
       "      <td>6.90000</td>\n",
       "      <td>0.800000</td>\n",
       "      <td>14.825000</td>\n",
       "      <td>4.950000</td>\n",
       "    </tr>\n",
       "    <tr>\n",
       "      <th>50%</th>\n",
       "      <td>3.000000</td>\n",
       "      <td>7.45000</td>\n",
       "      <td>0.950000</td>\n",
       "      <td>15.150000</td>\n",
       "      <td>5.350000</td>\n",
       "    </tr>\n",
       "    <tr>\n",
       "      <th>75%</th>\n",
       "      <td>4.125000</td>\n",
       "      <td>8.70000</td>\n",
       "      <td>1.175000</td>\n",
       "      <td>16.050000</td>\n",
       "      <td>6.050000</td>\n",
       "    </tr>\n",
       "    <tr>\n",
       "      <th>max</th>\n",
       "      <td>5.700000</td>\n",
       "      <td>9.40000</td>\n",
       "      <td>1.500000</td>\n",
       "      <td>16.800000</td>\n",
       "      <td>6.800000</td>\n",
       "    </tr>\n",
       "  </tbody>\n",
       "</table>\n",
       "</div>"
      ],
      "text/plain": [
       "        Feature1  Feature2   Feature3   Feature4   Feature5\n",
       "count  10.000000  10.00000  10.000000  10.000000  10.000000\n",
       "mean    3.170000   7.76000   1.000000  15.310000   5.530000\n",
       "std     1.422088   1.05851   0.298142   0.978037   0.736433\n",
       "min     1.300000   6.50000   0.600000  13.700000   4.700000\n",
       "25%     2.175000   6.90000   0.800000  14.825000   4.950000\n",
       "50%     3.000000   7.45000   0.950000  15.150000   5.350000\n",
       "75%     4.125000   8.70000   1.175000  16.050000   6.050000\n",
       "max     5.700000   9.40000   1.500000  16.800000   6.800000"
      ]
     },
     "execution_count": 11,
     "metadata": {},
     "output_type": "execute_result"
    }
   ],
   "source": [
    "# descriptive statistics of df\n",
    "\n",
    "df.describe()"
   ]
  },
  {
   "cell_type": "code",
   "execution_count": 12,
   "id": "eaf49895",
   "metadata": {},
   "outputs": [],
   "source": [
    "# Task 4"
   ]
  },
  {
   "cell_type": "code",
   "execution_count": 13,
   "id": "9b0e0d40",
   "metadata": {},
   "outputs": [
    {
     "data": {
      "text/plain": [
       "Feature1     5.7\n",
       "Feature2     7.6\n",
       "Feature3     1.1\n",
       "Feature4    15.6\n",
       "Feature5     4.9\n",
       "Name: 4, dtype: float64"
      ]
     },
     "execution_count": 13,
     "metadata": {},
     "output_type": "execute_result"
    }
   ],
   "source": [
    "# 4th index observation with 'loc'\n",
    "\n",
    "df.loc[4]"
   ]
  },
  {
   "cell_type": "code",
   "execution_count": 14,
   "id": "19e8891f",
   "metadata": {},
   "outputs": [],
   "source": [
    "# Task 5"
   ]
  },
  {
   "cell_type": "code",
   "execution_count": 15,
   "id": "448f734b",
   "metadata": {},
   "outputs": [
    {
     "data": {
      "text/plain": [
       "Feature1    False\n",
       "Feature2    False\n",
       "Feature3    False\n",
       "Feature4    False\n",
       "Feature5    False\n",
       "dtype: bool"
      ]
     },
     "execution_count": 15,
     "metadata": {},
     "output_type": "execute_result"
    }
   ],
   "source": [
    "# checking null values and their sum\n",
    "\n",
    "df.isnull().any()"
   ]
  },
  {
   "cell_type": "code",
   "execution_count": 16,
   "id": "4edd6732",
   "metadata": {},
   "outputs": [
    {
     "data": {
      "text/plain": [
       "Feature1    0\n",
       "Feature2    0\n",
       "Feature3    0\n",
       "Feature4    0\n",
       "Feature5    0\n",
       "dtype: int64"
      ]
     },
     "execution_count": 16,
     "metadata": {},
     "output_type": "execute_result"
    }
   ],
   "source": [
    "df.isnull().sum()"
   ]
  },
  {
   "cell_type": "code",
   "execution_count": null,
   "id": "c99801e2",
   "metadata": {},
   "outputs": [],
   "source": []
  }
 ],
 "metadata": {
  "kernelspec": {
   "display_name": "Python 3 (ipykernel)",
   "language": "python",
   "name": "python3"
  },
  "language_info": {
   "codemirror_mode": {
    "name": "ipython",
    "version": 3
   },
   "file_extension": ".py",
   "mimetype": "text/x-python",
   "name": "python",
   "nbconvert_exporter": "python",
   "pygments_lexer": "ipython3",
   "version": "3.9.13"
  }
 },
 "nbformat": 4,
 "nbformat_minor": 5
}
