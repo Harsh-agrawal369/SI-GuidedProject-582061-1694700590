{
 "cells": [
  {
   "cell_type": "markdown",
   "id": "df096b14",
   "metadata": {},
   "source": [
    "# Assignment 5\n",
    "\n",
    "**Harsh Agrawal**\n",
    " **21BIT0412**"
   ]
  },
  {
   "cell_type": "code",
   "execution_count": 1,
   "id": "ec6134c1",
   "metadata": {},
   "outputs": [],
   "source": [
    "#Importing Libraries\n",
    "\n",
    "import numpy as np\n",
    "import pandas as pd\n",
    "import matplotlib.pyplot as plt\n",
    "import seaborn as sns"
   ]
  },
  {
   "cell_type": "code",
   "execution_count": 15,
   "id": "abd443ce",
   "metadata": {},
   "outputs": [
    {
     "data": {
      "text/html": [
       "<div>\n",
       "<style scoped>\n",
       "    .dataframe tbody tr th:only-of-type {\n",
       "        vertical-align: middle;\n",
       "    }\n",
       "\n",
       "    .dataframe tbody tr th {\n",
       "        vertical-align: top;\n",
       "    }\n",
       "\n",
       "    .dataframe thead th {\n",
       "        text-align: right;\n",
       "    }\n",
       "</style>\n",
       "<table border=\"1\" class=\"dataframe\">\n",
       "  <thead>\n",
       "    <tr style=\"text-align: right;\">\n",
       "      <th></th>\n",
       "      <th>CustomerID</th>\n",
       "      <th>Gender</th>\n",
       "      <th>Age</th>\n",
       "      <th>Annual Income (k$)</th>\n",
       "      <th>Spending Score (1-100)</th>\n",
       "    </tr>\n",
       "  </thead>\n",
       "  <tbody>\n",
       "    <tr>\n",
       "      <th>0</th>\n",
       "      <td>1</td>\n",
       "      <td>Male</td>\n",
       "      <td>19</td>\n",
       "      <td>15</td>\n",
       "      <td>39</td>\n",
       "    </tr>\n",
       "    <tr>\n",
       "      <th>1</th>\n",
       "      <td>2</td>\n",
       "      <td>Male</td>\n",
       "      <td>21</td>\n",
       "      <td>15</td>\n",
       "      <td>81</td>\n",
       "    </tr>\n",
       "    <tr>\n",
       "      <th>2</th>\n",
       "      <td>3</td>\n",
       "      <td>Female</td>\n",
       "      <td>20</td>\n",
       "      <td>16</td>\n",
       "      <td>6</td>\n",
       "    </tr>\n",
       "    <tr>\n",
       "      <th>3</th>\n",
       "      <td>4</td>\n",
       "      <td>Female</td>\n",
       "      <td>23</td>\n",
       "      <td>16</td>\n",
       "      <td>77</td>\n",
       "    </tr>\n",
       "    <tr>\n",
       "      <th>4</th>\n",
       "      <td>5</td>\n",
       "      <td>Female</td>\n",
       "      <td>31</td>\n",
       "      <td>17</td>\n",
       "      <td>40</td>\n",
       "    </tr>\n",
       "  </tbody>\n",
       "</table>\n",
       "</div>"
      ],
      "text/plain": [
       "   CustomerID  Gender  Age  Annual Income (k$)  Spending Score (1-100)\n",
       "0           1    Male   19                  15                      39\n",
       "1           2    Male   21                  15                      81\n",
       "2           3  Female   20                  16                       6\n",
       "3           4  Female   23                  16                      77\n",
       "4           5  Female   31                  17                      40"
      ]
     },
     "execution_count": 15,
     "metadata": {},
     "output_type": "execute_result"
    }
   ],
   "source": [
    "#Loading Dataset\n",
    "\n",
    "df = pd.read_csv(\"D:/Vit/SmartBridge/Assignment 5/Mall_Customers.csv\")\n",
    "\n",
    "df.head()"
   ]
  },
  {
   "cell_type": "code",
   "execution_count": 16,
   "id": "f57d5bf6",
   "metadata": {},
   "outputs": [
    {
     "data": {
      "text/plain": [
       "(200, 5)"
      ]
     },
     "execution_count": 16,
     "metadata": {},
     "output_type": "execute_result"
    }
   ],
   "source": [
    "#Understanding Dataset Size\n",
    "\n",
    "df.shape"
   ]
  },
  {
   "cell_type": "code",
   "execution_count": 17,
   "id": "4f9a4e50",
   "metadata": {},
   "outputs": [
    {
     "data": {
      "text/html": [
       "<div>\n",
       "<style scoped>\n",
       "    .dataframe tbody tr th:only-of-type {\n",
       "        vertical-align: middle;\n",
       "    }\n",
       "\n",
       "    .dataframe tbody tr th {\n",
       "        vertical-align: top;\n",
       "    }\n",
       "\n",
       "    .dataframe thead th {\n",
       "        text-align: right;\n",
       "    }\n",
       "</style>\n",
       "<table border=\"1\" class=\"dataframe\">\n",
       "  <thead>\n",
       "    <tr style=\"text-align: right;\">\n",
       "      <th></th>\n",
       "      <th>CustomerID</th>\n",
       "      <th>Age</th>\n",
       "      <th>Annual Income (k$)</th>\n",
       "      <th>Spending Score (1-100)</th>\n",
       "    </tr>\n",
       "  </thead>\n",
       "  <tbody>\n",
       "    <tr>\n",
       "      <th>count</th>\n",
       "      <td>200.000000</td>\n",
       "      <td>200.000000</td>\n",
       "      <td>200.000000</td>\n",
       "      <td>200.000000</td>\n",
       "    </tr>\n",
       "    <tr>\n",
       "      <th>mean</th>\n",
       "      <td>100.500000</td>\n",
       "      <td>38.850000</td>\n",
       "      <td>60.560000</td>\n",
       "      <td>50.200000</td>\n",
       "    </tr>\n",
       "    <tr>\n",
       "      <th>std</th>\n",
       "      <td>57.879185</td>\n",
       "      <td>13.969007</td>\n",
       "      <td>26.264721</td>\n",
       "      <td>25.823522</td>\n",
       "    </tr>\n",
       "    <tr>\n",
       "      <th>min</th>\n",
       "      <td>1.000000</td>\n",
       "      <td>18.000000</td>\n",
       "      <td>15.000000</td>\n",
       "      <td>1.000000</td>\n",
       "    </tr>\n",
       "    <tr>\n",
       "      <th>25%</th>\n",
       "      <td>50.750000</td>\n",
       "      <td>28.750000</td>\n",
       "      <td>41.500000</td>\n",
       "      <td>34.750000</td>\n",
       "    </tr>\n",
       "    <tr>\n",
       "      <th>50%</th>\n",
       "      <td>100.500000</td>\n",
       "      <td>36.000000</td>\n",
       "      <td>61.500000</td>\n",
       "      <td>50.000000</td>\n",
       "    </tr>\n",
       "    <tr>\n",
       "      <th>75%</th>\n",
       "      <td>150.250000</td>\n",
       "      <td>49.000000</td>\n",
       "      <td>78.000000</td>\n",
       "      <td>73.000000</td>\n",
       "    </tr>\n",
       "    <tr>\n",
       "      <th>max</th>\n",
       "      <td>200.000000</td>\n",
       "      <td>70.000000</td>\n",
       "      <td>137.000000</td>\n",
       "      <td>99.000000</td>\n",
       "    </tr>\n",
       "  </tbody>\n",
       "</table>\n",
       "</div>"
      ],
      "text/plain": [
       "       CustomerID         Age  Annual Income (k$)  Spending Score (1-100)\n",
       "count  200.000000  200.000000          200.000000              200.000000\n",
       "mean   100.500000   38.850000           60.560000               50.200000\n",
       "std     57.879185   13.969007           26.264721               25.823522\n",
       "min      1.000000   18.000000           15.000000                1.000000\n",
       "25%     50.750000   28.750000           41.500000               34.750000\n",
       "50%    100.500000   36.000000           61.500000               50.000000\n",
       "75%    150.250000   49.000000           78.000000               73.000000\n",
       "max    200.000000   70.000000          137.000000               99.000000"
      ]
     },
     "execution_count": 17,
     "metadata": {},
     "output_type": "execute_result"
    }
   ],
   "source": [
    "#Checking for null values\n",
    "\n",
    "df.describe()"
   ]
  },
  {
   "cell_type": "markdown",
   "id": "db41a7b1",
   "metadata": {},
   "source": [
    "* Since count are same hence we observe that dataset does not contain any null values"
   ]
  },
  {
   "cell_type": "markdown",
   "id": "2a7b8734",
   "metadata": {},
   "source": [
    "# Data PreProcessing"
   ]
  },
  {
   "cell_type": "markdown",
   "id": "a79400e4",
   "metadata": {},
   "source": [
    "* We need to find the Cluster of data between the columns Annual Income and Spending Score.\n",
    "Hence we will drop other columns"
   ]
  },
  {
   "cell_type": "code",
   "execution_count": 18,
   "id": "0776eb0c",
   "metadata": {},
   "outputs": [],
   "source": [
    "data = df.drop(columns=['CustomerID','Gender','Age'],axis=1)"
   ]
  },
  {
   "cell_type": "code",
   "execution_count": 19,
   "id": "1fd1cf10",
   "metadata": {},
   "outputs": [
    {
     "data": {
      "text/html": [
       "<div>\n",
       "<style scoped>\n",
       "    .dataframe tbody tr th:only-of-type {\n",
       "        vertical-align: middle;\n",
       "    }\n",
       "\n",
       "    .dataframe tbody tr th {\n",
       "        vertical-align: top;\n",
       "    }\n",
       "\n",
       "    .dataframe thead th {\n",
       "        text-align: right;\n",
       "    }\n",
       "</style>\n",
       "<table border=\"1\" class=\"dataframe\">\n",
       "  <thead>\n",
       "    <tr style=\"text-align: right;\">\n",
       "      <th></th>\n",
       "      <th>Annual Income (k$)</th>\n",
       "      <th>Spending Score (1-100)</th>\n",
       "    </tr>\n",
       "  </thead>\n",
       "  <tbody>\n",
       "    <tr>\n",
       "      <th>0</th>\n",
       "      <td>15</td>\n",
       "      <td>39</td>\n",
       "    </tr>\n",
       "    <tr>\n",
       "      <th>1</th>\n",
       "      <td>15</td>\n",
       "      <td>81</td>\n",
       "    </tr>\n",
       "    <tr>\n",
       "      <th>2</th>\n",
       "      <td>16</td>\n",
       "      <td>6</td>\n",
       "    </tr>\n",
       "    <tr>\n",
       "      <th>3</th>\n",
       "      <td>16</td>\n",
       "      <td>77</td>\n",
       "    </tr>\n",
       "    <tr>\n",
       "      <th>4</th>\n",
       "      <td>17</td>\n",
       "      <td>40</td>\n",
       "    </tr>\n",
       "  </tbody>\n",
       "</table>\n",
       "</div>"
      ],
      "text/plain": [
       "   Annual Income (k$)  Spending Score (1-100)\n",
       "0                  15                      39\n",
       "1                  15                      81\n",
       "2                  16                       6\n",
       "3                  16                      77\n",
       "4                  17                      40"
      ]
     },
     "execution_count": 19,
     "metadata": {},
     "output_type": "execute_result"
    }
   ],
   "source": [
    "data.head()"
   ]
  },
  {
   "cell_type": "markdown",
   "id": "b5b96bf6",
   "metadata": {},
   "source": [
    "* Now since we have got two columns to apply our algorithm. We will first Scale the data before using K-Means"
   ]
  },
  {
   "cell_type": "code",
   "execution_count": 20,
   "id": "fd599a03",
   "metadata": {},
   "outputs": [],
   "source": [
    "from sklearn.preprocessing import StandardScaler\n",
    "scaler = StandardScaler()"
   ]
  },
  {
   "cell_type": "code",
   "execution_count": 22,
   "id": "243bc8da",
   "metadata": {},
   "outputs": [
    {
     "data": {
      "text/plain": [
       "array([[-1.73899919, -0.43480148],\n",
       "       [-1.73899919,  1.19570407],\n",
       "       [-1.70082976, -1.71591298],\n",
       "       [-1.70082976,  1.04041783],\n",
       "       [-1.66266033, -0.39597992],\n",
       "       [-1.66266033,  1.00159627],\n",
       "       [-1.62449091, -1.71591298],\n",
       "       [-1.62449091,  1.70038436],\n",
       "       [-1.58632148, -1.83237767],\n",
       "       [-1.58632148,  0.84631002],\n",
       "       [-1.58632148, -1.4053405 ],\n",
       "       [-1.58632148,  1.89449216],\n",
       "       [-1.54815205, -1.36651894],\n",
       "       [-1.54815205,  1.04041783],\n",
       "       [-1.54815205, -1.44416206],\n",
       "       [-1.54815205,  1.11806095],\n",
       "       [-1.50998262, -0.59008772],\n",
       "       [-1.50998262,  0.61338066],\n",
       "       [-1.43364376, -0.82301709],\n",
       "       [-1.43364376,  1.8556706 ],\n",
       "       [-1.39547433, -0.59008772],\n",
       "       [-1.39547433,  0.88513158],\n",
       "       [-1.3573049 , -1.75473454],\n",
       "       [-1.3573049 ,  0.88513158],\n",
       "       [-1.24279661, -1.4053405 ],\n",
       "       [-1.24279661,  1.23452563],\n",
       "       [-1.24279661, -0.7065524 ],\n",
       "       [-1.24279661,  0.41927286],\n",
       "       [-1.20462718, -0.74537397],\n",
       "       [-1.20462718,  1.42863343],\n",
       "       [-1.16645776, -1.7935561 ],\n",
       "       [-1.16645776,  0.88513158],\n",
       "       [-1.05194947, -1.7935561 ],\n",
       "       [-1.05194947,  1.62274124],\n",
       "       [-1.05194947, -1.4053405 ],\n",
       "       [-1.05194947,  1.19570407],\n",
       "       [-1.01378004, -1.28887582],\n",
       "       [-1.01378004,  0.88513158],\n",
       "       [-0.89927175, -0.93948177],\n",
       "       [-0.89927175,  0.96277471],\n",
       "       [-0.86110232, -0.59008772],\n",
       "       [-0.86110232,  1.62274124],\n",
       "       [-0.82293289, -0.55126616],\n",
       "       [-0.82293289,  0.41927286],\n",
       "       [-0.82293289, -0.86183865],\n",
       "       [-0.82293289,  0.5745591 ],\n",
       "       [-0.78476346,  0.18634349],\n",
       "       [-0.78476346, -0.12422899],\n",
       "       [-0.78476346, -0.3183368 ],\n",
       "       [-0.78476346, -0.3183368 ],\n",
       "       [-0.70842461,  0.06987881],\n",
       "       [-0.70842461,  0.38045129],\n",
       "       [-0.67025518,  0.14752193],\n",
       "       [-0.67025518,  0.38045129],\n",
       "       [-0.67025518, -0.20187212],\n",
       "       [-0.67025518, -0.35715836],\n",
       "       [-0.63208575, -0.00776431],\n",
       "       [-0.63208575, -0.16305055],\n",
       "       [-0.55574689,  0.03105725],\n",
       "       [-0.55574689, -0.16305055],\n",
       "       [-0.55574689,  0.22516505],\n",
       "       [-0.55574689,  0.18634349],\n",
       "       [-0.51757746,  0.06987881],\n",
       "       [-0.51757746,  0.34162973],\n",
       "       [-0.47940803,  0.03105725],\n",
       "       [-0.47940803,  0.34162973],\n",
       "       [-0.47940803, -0.00776431],\n",
       "       [-0.47940803, -0.08540743],\n",
       "       [-0.47940803,  0.34162973],\n",
       "       [-0.47940803, -0.12422899],\n",
       "       [-0.4412386 ,  0.18634349],\n",
       "       [-0.4412386 , -0.3183368 ],\n",
       "       [-0.40306917, -0.04658587],\n",
       "       [-0.40306917,  0.22516505],\n",
       "       [-0.25039146, -0.12422899],\n",
       "       [-0.25039146,  0.14752193],\n",
       "       [-0.25039146,  0.10870037],\n",
       "       [-0.25039146, -0.08540743],\n",
       "       [-0.25039146,  0.06987881],\n",
       "       [-0.25039146, -0.3183368 ],\n",
       "       [-0.25039146,  0.03105725],\n",
       "       [-0.25039146,  0.18634349],\n",
       "       [-0.25039146, -0.35715836],\n",
       "       [-0.25039146, -0.24069368],\n",
       "       [-0.25039146,  0.26398661],\n",
       "       [-0.25039146, -0.16305055],\n",
       "       [-0.13588317,  0.30280817],\n",
       "       [-0.13588317,  0.18634349],\n",
       "       [-0.09771374,  0.38045129],\n",
       "       [-0.09771374, -0.16305055],\n",
       "       [-0.05954431,  0.18634349],\n",
       "       [-0.05954431, -0.35715836],\n",
       "       [-0.02137488, -0.04658587],\n",
       "       [-0.02137488, -0.39597992],\n",
       "       [-0.02137488, -0.3183368 ],\n",
       "       [-0.02137488,  0.06987881],\n",
       "       [-0.02137488, -0.12422899],\n",
       "       [-0.02137488, -0.00776431],\n",
       "       [ 0.01679455, -0.3183368 ],\n",
       "       [ 0.01679455, -0.04658587],\n",
       "       [ 0.05496398, -0.35715836],\n",
       "       [ 0.05496398, -0.08540743],\n",
       "       [ 0.05496398,  0.34162973],\n",
       "       [ 0.05496398,  0.18634349],\n",
       "       [ 0.05496398,  0.22516505],\n",
       "       [ 0.05496398, -0.3183368 ],\n",
       "       [ 0.09313341, -0.00776431],\n",
       "       [ 0.09313341, -0.16305055],\n",
       "       [ 0.09313341, -0.27951524],\n",
       "       [ 0.09313341, -0.08540743],\n",
       "       [ 0.09313341,  0.06987881],\n",
       "       [ 0.09313341,  0.14752193],\n",
       "       [ 0.13130284, -0.3183368 ],\n",
       "       [ 0.13130284, -0.16305055],\n",
       "       [ 0.16947227, -0.08540743],\n",
       "       [ 0.16947227, -0.00776431],\n",
       "       [ 0.16947227, -0.27951524],\n",
       "       [ 0.16947227,  0.34162973],\n",
       "       [ 0.24581112, -0.27951524],\n",
       "       [ 0.24581112,  0.26398661],\n",
       "       [ 0.24581112,  0.22516505],\n",
       "       [ 0.24581112, -0.39597992],\n",
       "       [ 0.32214998,  0.30280817],\n",
       "       [ 0.32214998,  1.58391968],\n",
       "       [ 0.36031941, -0.82301709],\n",
       "       [ 0.36031941,  1.04041783],\n",
       "       [ 0.39848884, -0.59008772],\n",
       "       [ 0.39848884,  1.73920592],\n",
       "       [ 0.39848884, -1.52180518],\n",
       "       [ 0.39848884,  0.96277471],\n",
       "       [ 0.39848884, -1.5994483 ],\n",
       "       [ 0.39848884,  0.96277471],\n",
       "       [ 0.43665827, -0.62890928],\n",
       "       [ 0.43665827,  0.80748846],\n",
       "       [ 0.4748277 , -1.75473454],\n",
       "       [ 0.4748277 ,  1.46745499],\n",
       "       [ 0.4748277 , -1.67709142],\n",
       "       [ 0.4748277 ,  0.88513158],\n",
       "       [ 0.51299713, -1.56062674],\n",
       "       [ 0.51299713,  0.84631002],\n",
       "       [ 0.55116656, -1.75473454],\n",
       "       [ 0.55116656,  1.6615628 ],\n",
       "       [ 0.58933599, -0.39597992],\n",
       "       [ 0.58933599,  1.42863343],\n",
       "       [ 0.62750542, -1.48298362],\n",
       "       [ 0.62750542,  1.81684904],\n",
       "       [ 0.62750542, -0.55126616],\n",
       "       [ 0.62750542,  0.92395314],\n",
       "       [ 0.66567484, -1.09476801],\n",
       "       [ 0.66567484,  1.54509812],\n",
       "       [ 0.66567484, -1.28887582],\n",
       "       [ 0.66567484,  1.46745499],\n",
       "       [ 0.66567484, -1.17241113],\n",
       "       [ 0.66567484,  1.00159627],\n",
       "       [ 0.66567484, -1.32769738],\n",
       "       [ 0.66567484,  1.50627656],\n",
       "       [ 0.66567484, -1.91002079],\n",
       "       [ 0.66567484,  1.07923939],\n",
       "       [ 0.66567484, -1.91002079],\n",
       "       [ 0.66567484,  0.88513158],\n",
       "       [ 0.70384427, -0.59008772],\n",
       "       [ 0.70384427,  1.27334719],\n",
       "       [ 0.78018313, -1.75473454],\n",
       "       [ 0.78018313,  1.6615628 ],\n",
       "       [ 0.93286085, -0.93948177],\n",
       "       [ 0.93286085,  0.96277471],\n",
       "       [ 0.97103028, -1.17241113],\n",
       "       [ 0.97103028,  1.73920592],\n",
       "       [ 1.00919971, -0.90066021],\n",
       "       [ 1.00919971,  0.49691598],\n",
       "       [ 1.00919971, -1.44416206],\n",
       "       [ 1.00919971,  0.96277471],\n",
       "       [ 1.00919971, -1.56062674],\n",
       "       [ 1.00919971,  1.62274124],\n",
       "       [ 1.04736914, -1.44416206],\n",
       "       [ 1.04736914,  1.38981187],\n",
       "       [ 1.04736914, -1.36651894],\n",
       "       [ 1.04736914,  0.72984534],\n",
       "       [ 1.23821628, -1.4053405 ],\n",
       "       [ 1.23821628,  1.54509812],\n",
       "       [ 1.390894  , -0.7065524 ],\n",
       "       [ 1.390894  ,  1.38981187],\n",
       "       [ 1.42906343, -1.36651894],\n",
       "       [ 1.42906343,  1.46745499],\n",
       "       [ 1.46723286, -0.43480148],\n",
       "       [ 1.46723286,  1.81684904],\n",
       "       [ 1.54357172, -1.01712489],\n",
       "       [ 1.54357172,  0.69102378],\n",
       "       [ 1.61991057, -1.28887582],\n",
       "       [ 1.61991057,  1.35099031],\n",
       "       [ 1.61991057, -1.05594645],\n",
       "       [ 1.61991057,  0.72984534],\n",
       "       [ 2.00160487, -1.63826986],\n",
       "       [ 2.00160487,  1.58391968],\n",
       "       [ 2.26879087, -1.32769738],\n",
       "       [ 2.26879087,  1.11806095],\n",
       "       [ 2.49780745, -0.86183865],\n",
       "       [ 2.49780745,  0.92395314],\n",
       "       [ 2.91767117, -1.25005425],\n",
       "       [ 2.91767117,  1.27334719]])"
      ]
     },
     "execution_count": 22,
     "metadata": {},
     "output_type": "execute_result"
    }
   ],
   "source": [
    "scaler.fit(data)\n",
    "scaler.transform(data)"
   ]
  },
  {
   "cell_type": "markdown",
   "id": "0b9adc7a",
   "metadata": {},
   "source": [
    "**Visulaizing Current Data**"
   ]
  },
  {
   "cell_type": "code",
   "execution_count": 23,
   "id": "a5eeef95",
   "metadata": {},
   "outputs": [
    {
     "data": {
      "text/plain": [
       "<AxesSubplot:xlabel='Annual Income (k$)', ylabel='Spending Score (1-100)'>"
      ]
     },
     "execution_count": 23,
     "metadata": {},
     "output_type": "execute_result"
    },
    {
     "data": {
      "image/png": "[encoded data removed]",
      "text/plain": [
       "<Figure size 640x480 with 1 Axes>"
      ]
     },
     "metadata": {},
     "output_type": "display_data"
    }
   ],
   "source": [
    "sns.scatterplot(x=data['Annual Income (k$)'], y=data['Spending Score (1-100)'])"
   ]
  },
  {
   "cell_type": "markdown",
   "id": "57a5b165",
   "metadata": {},
   "source": [
    "* we Observe that data is scatterd unevenly and we cannot clearly observe any result.\n",
    "* Hence we will be using Elbow method to find exact number of clusters"
   ]
  },
  {
   "cell_type": "markdown",
   "id": "38148bed",
   "metadata": {},
   "source": [
    "# Elbow Method"
   ]
  },
  {
   "cell_type": "code",
   "execution_count": 24,
   "id": "1f10c913",
   "metadata": {},
   "outputs": [],
   "source": [
    "from sklearn.cluster import KMeans"
   ]
  },
  {
   "cell_type": "code",
   "execution_count": 25,
   "id": "230ccb0c",
   "metadata": {},
   "outputs": [
    {
     "name": "stderr",
     "output_type": "stream",
     "text": [
      "C:\\ProgramData\\Anaconda3\\lib\\site-packages\\sklearn\\cluster\\_kmeans.py:1036: UserWarning: KMeans is known to have a memory leak on Windows with MKL, when there are less chunks than available threads. You can avoid it by setting the environment variable OMP_NUM_THREADS=1.\n",
      "  warnings.warn(\n"
     ]
    }
   ],
   "source": [
    "wcss = []\n",
    "for i in range(1,10):\n",
    "    km= KMeans(n_clusters=i)\n",
    "    km.fit_predict(data)\n",
    "    wcss.append(km.inertia_)"
   ]
  },
  {
   "cell_type": "code",
   "execution_count": 26,
   "id": "e603ff47",
   "metadata": {
    "scrolled": true
   },
   "outputs": [
    {
     "data": {
      "text/plain": [
       "[269981.28,\n",
       " 181363.595959596,\n",
       " 106348.3730621112,\n",
       " 73679.78903948834,\n",
       " 44448.45544793371,\n",
       " 37271.886236589504,\n",
       " 31280.903845940928,\n",
       " 25011.83934915659,\n",
       " 21794.885609098197]"
      ]
     },
     "execution_count": 26,
     "metadata": {},
     "output_type": "execute_result"
    }
   ],
   "source": [
    "wcss"
   ]
  },
  {
   "cell_type": "code",
   "execution_count": 29,
   "id": "e87abadc",
   "metadata": {
    "scrolled": true
   },
   "outputs": [
    {
     "data": {
      "text/plain": [
       "Text(0, 0.5, 'WCSS')"
      ]
     },
     "execution_count": 29,
     "metadata": {},
     "output_type": "execute_result"
    },
    {
     "data": {
      "image/png": "[encoded data removed]",
      "text/plain": [
       "<Figure size 640x480 with 1 Axes>"
      ]
     },
     "metadata": {},
     "output_type": "display_data"
    }
   ],
   "source": [
    "plt.plot(range(1,10),wcss,color='r')\n",
    "plt.title('Elbow Method Graph')\n",
    "plt.xlabel('Number of Clusters (K)')\n",
    "plt.ylabel('WCSS')"
   ]
  },
  {
   "cell_type": "markdown",
   "id": "a279bd34",
   "metadata": {},
   "source": [
    "* We observe that 5 is our elbow point"
   ]
  },
  {
   "cell_type": "markdown",
   "id": "3c81b833",
   "metadata": {},
   "source": [
    "# Applying KMeans Algorithm"
   ]
  },
  {
   "cell_type": "code",
   "execution_count": 33,
   "id": "94b66d9d",
   "metadata": {},
   "outputs": [],
   "source": [
    "chosen_k = 5\n",
    "kmeans = KMeans(n_clusters=chosen_k, init='k-means++', random_state=42,n_init=10)\n",
    "data['KMeans_Cluster'] = kmeans.fit_predict(data[['Annual Income (k$)', 'Spending Score (1-100)']])"
   ]
  },
  {
   "cell_type": "code",
   "execution_count": 34,
   "id": "76c4c870",
   "metadata": {},
   "outputs": [
    {
     "data": {
      "text/html": [
       "<div>\n",
       "<style scoped>\n",
       "    .dataframe tbody tr th:only-of-type {\n",
       "        vertical-align: middle;\n",
       "    }\n",
       "\n",
       "    .dataframe tbody tr th {\n",
       "        vertical-align: top;\n",
       "    }\n",
       "\n",
       "    .dataframe thead th {\n",
       "        text-align: right;\n",
       "    }\n",
       "</style>\n",
       "<table border=\"1\" class=\"dataframe\">\n",
       "  <thead>\n",
       "    <tr style=\"text-align: right;\">\n",
       "      <th></th>\n",
       "      <th>Annual Income (k$)</th>\n",
       "      <th>Spending Score (1-100)</th>\n",
       "      <th>KMeans_Cluster</th>\n",
       "    </tr>\n",
       "  </thead>\n",
       "  <tbody>\n",
       "    <tr>\n",
       "      <th>0</th>\n",
       "      <td>15</td>\n",
       "      <td>39</td>\n",
       "      <td>2</td>\n",
       "    </tr>\n",
       "    <tr>\n",
       "      <th>1</th>\n",
       "      <td>15</td>\n",
       "      <td>81</td>\n",
       "      <td>3</td>\n",
       "    </tr>\n",
       "    <tr>\n",
       "      <th>2</th>\n",
       "      <td>16</td>\n",
       "      <td>6</td>\n",
       "      <td>2</td>\n",
       "    </tr>\n",
       "    <tr>\n",
       "      <th>3</th>\n",
       "      <td>16</td>\n",
       "      <td>77</td>\n",
       "      <td>3</td>\n",
       "    </tr>\n",
       "    <tr>\n",
       "      <th>4</th>\n",
       "      <td>17</td>\n",
       "      <td>40</td>\n",
       "      <td>2</td>\n",
       "    </tr>\n",
       "  </tbody>\n",
       "</table>\n",
       "</div>"
      ],
      "text/plain": [
       "   Annual Income (k$)  Spending Score (1-100)  KMeans_Cluster\n",
       "0                  15                      39               2\n",
       "1                  15                      81               3\n",
       "2                  16                       6               2\n",
       "3                  16                      77               3\n",
       "4                  17                      40               2"
      ]
     },
     "execution_count": 34,
     "metadata": {},
     "output_type": "execute_result"
    }
   ],
   "source": [
    "data.head()\n"
   ]
  },
  {
   "cell_type": "code",
   "execution_count": 40,
   "id": "ad01f755",
   "metadata": {},
   "outputs": [
    {
     "data": {
      "image/png": "[encoded data removed]",
      "text/plain": [
       "<Figure size 800x500 with 1 Axes>"
      ]
     },
     "metadata": {},
     "output_type": "display_data"
    }
   ],
   "source": [
    "plt.figure(figsize=(8, 5))\n",
    "sns.scatterplot(data=data, x='Annual Income (k$)', y='Spending Score (1-100)', hue='KMeans_Cluster', palette='Dark2')\n",
    "plt.title('K-Means Clustering')\n",
    "plt.show()"
   ]
  },
  {
   "cell_type": "markdown",
   "id": "601ad8f5",
   "metadata": {},
   "source": []
  }
 ],
 "metadata": {
  "kernelspec": {
   "display_name": "Python 3 (ipykernel)",
   "language": "python",
   "name": "python3"
  },
  "language_info": {
   "codemirror_mode": {
    "name": "ipython",
    "version": 3
   },
   "file_extension": ".py",
   "mimetype": "text/x-python",
   "name": "python",
   "nbconvert_exporter": "python",
   "pygments_lexer": "ipython3",
   "version": "3.9.13"
  }
 },
 "nbformat": 4,
 "nbformat_minor": 5
}
